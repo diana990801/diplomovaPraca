{
  "nbformat": 4,
  "nbformat_minor": 0,
  "metadata": {
    "colab": {
      "provenance": []
    },
    "kernelspec": {
      "name": "python3",
      "display_name": "Python 3"
    },
    "language_info": {
      "name": "python"
    }
  },
  "cells": [
    {
      "cell_type": "code",
      "execution_count": null,
      "metadata": {
        "colab": {
          "base_uri": "https://localhost:8080/"
        },
        "id": "JbmOxeVXMHOm",
        "outputId": "901aa04a-2ee0-4c5b-da22-d60cfbb2e3db"
      },
      "outputs": [
        {
          "output_type": "stream",
          "name": "stdout",
          "text": [
            "Looking in indexes: https://pypi.org/simple, https://us-python.pkg.dev/colab-wheels/public/simple/\n",
            "Requirement already satisfied: polyglot in /usr/local/lib/python3.8/dist-packages (16.7.4)\n"
          ]
        }
      ],
      "source": [
        "pip install polyglot"
      ]
    },
    {
      "cell_type": "code",
      "source": [
        "pip install pycld2"
      ],
      "metadata": {
        "colab": {
          "base_uri": "https://localhost:8080/"
        },
        "id": "kOxVGI9PMIch",
        "outputId": "55d70b50-f3b3-4d3c-912f-5930f3138929"
      },
      "execution_count": null,
      "outputs": [
        {
          "output_type": "stream",
          "name": "stdout",
          "text": [
            "Looking in indexes: https://pypi.org/simple, https://us-python.pkg.dev/colab-wheels/public/simple/\n",
            "Requirement already satisfied: pycld2 in /usr/local/lib/python3.8/dist-packages (0.41)\n"
          ]
        }
      ]
    },
    {
      "cell_type": "code",
      "source": [
        "import pycld2 as cld2"
      ],
      "metadata": {
        "id": "bV7HxwI0MLqR"
      },
      "execution_count": null,
      "outputs": []
    },
    {
      "cell_type": "code",
      "source": [
        "pip install icu"
      ],
      "metadata": {
        "colab": {
          "base_uri": "https://localhost:8080/"
        },
        "id": "1nfgpdJ6MNXx",
        "outputId": "ac00369e-f48e-484a-e66f-b2cf925ad465"
      },
      "execution_count": null,
      "outputs": [
        {
          "output_type": "stream",
          "name": "stdout",
          "text": [
            "Looking in indexes: https://pypi.org/simple, https://us-python.pkg.dev/colab-wheels/public/simple/\n",
            "Requirement already satisfied: icu in /usr/local/lib/python3.8/dist-packages (0.0.1)\n"
          ]
        }
      ]
    },
    {
      "cell_type": "code",
      "source": [
        "pip install PyICU"
      ],
      "metadata": {
        "colab": {
          "base_uri": "https://localhost:8080/"
        },
        "id": "jRB5VdO0MPuk",
        "outputId": "11f02040-ece3-44b8-c8a4-18c9caf65b82"
      },
      "execution_count": null,
      "outputs": [
        {
          "output_type": "stream",
          "name": "stdout",
          "text": [
            "Looking in indexes: https://pypi.org/simple, https://us-python.pkg.dev/colab-wheels/public/simple/\n",
            "Requirement already satisfied: PyICU in /usr/local/lib/python3.8/dist-packages (2.10.2)\n"
          ]
        }
      ]
    },
    {
      "cell_type": "code",
      "source": [
        "from polyglot.downloader import downloader\n",
        "print(downloader.supported_languages_table(\"ner2\", 3))"
      ],
      "metadata": {
        "colab": {
          "base_uri": "https://localhost:8080/"
        },
        "id": "t-8IqaO_MSme",
        "outputId": "0f004a40-bde1-467f-92d1-29ea473fe3cc"
      },
      "execution_count": null,
      "outputs": [
        {
          "output_type": "stream",
          "name": "stdout",
          "text": [
            "  1. Italian                    2. Hindi                      3. French                   \n",
            "  4. Spanish; Castilian         5. Vietnamese                 6. Arabic                   \n",
            "  7. Bulgarian                  8. Norwegian                  9. Estonian                 \n",
            " 10. Japanese                  11. Greek, Modern             12. Slovene                  \n",
            " 13. Korean                    14. Serbian                   15. Finnish                  \n",
            " 16. Catalan; Valencian        17. Croatian                  18. Dutch                    \n",
            " 19. Swedish                   20. Tagalog                   21. Danish                   \n",
            " 22. Latvian                   23. Ukrainian                 24. Romanian, Moldavian, ... \n",
            " 25. Persian                   26. Slovak                    27. Portuguese               \n",
            " 28. English                   29. Malay                     30. Polish                   \n",
            " 31. German                    32. Indonesian                33. Chinese                  \n",
            " 34. Czech                     35. Hebrew (modern)           36. Lithuanian               \n",
            " 37. Turkish                   38. Hungarian                 39. Thai                     \n",
            " 40. Russian                  \n"
          ]
        }
      ]
    },
    {
      "cell_type": "code",
      "source": [
        "pip install morfessor"
      ],
      "metadata": {
        "id": "sFisPNb5MVkR",
        "colab": {
          "base_uri": "https://localhost:8080/"
        },
        "outputId": "c15ab0ab-7aa6-445b-9e14-223e87a12cd8"
      },
      "execution_count": null,
      "outputs": [
        {
          "output_type": "stream",
          "name": "stdout",
          "text": [
            "Looking in indexes: https://pypi.org/simple, https://us-python.pkg.dev/colab-wheels/public/simple/\n",
            "Requirement already satisfied: morfessor in /usr/local/lib/python3.8/dist-packages (2.0.6)\n"
          ]
        }
      ]
    },
    {
      "cell_type": "code",
      "source": [
        "%%bash\n",
        "polyglot download embeddings2.en ner2.en"
      ],
      "metadata": {
        "colab": {
          "base_uri": "https://localhost:8080/"
        },
        "id": "QmUxdNR4Mse4",
        "outputId": "9f7e7edc-1804-4849-ef45-14ac58f8fc01"
      },
      "execution_count": null,
      "outputs": [
        {
          "output_type": "stream",
          "name": "stdout",
          "text": [
            "[polyglot_data] Downloading package embeddings2.en to\n",
            "[polyglot_data]     /root/polyglot_data...\n",
            "[polyglot_data]   Package embeddings2.en is already up-to-date!\n",
            "[polyglot_data] Downloading package ner2.en to /root/polyglot_data...\n",
            "[polyglot_data]   Package ner2.en is already up-to-date!\n"
          ]
        }
      ]
    },
    {
      "cell_type": "code",
      "source": [
        "%%bash\n",
        "polyglot download embeddings2.sk"
      ],
      "metadata": {
        "colab": {
          "base_uri": "https://localhost:8080/"
        },
        "id": "rr9Jhl9ENvCR",
        "outputId": "55394b46-3f24-47ca-9bb3-8730ee379d47"
      },
      "execution_count": null,
      "outputs": [
        {
          "output_type": "stream",
          "name": "stdout",
          "text": [
            "[polyglot_data] Downloading package embeddings2.sk to\n",
            "[polyglot_data]     /root/polyglot_data...\n",
            "[polyglot_data]   Package embeddings2.sk is already up-to-date!\n"
          ]
        }
      ]
    },
    {
      "cell_type": "code",
      "source": [
        "%%bash\n",
        "polyglot download ner2.sk"
      ],
      "metadata": {
        "colab": {
          "base_uri": "https://localhost:8080/"
        },
        "id": "_bxizBOgNxSK",
        "outputId": "68bd24f7-e885-4634-b621-9193d68c3a3a"
      },
      "execution_count": null,
      "outputs": [
        {
          "output_type": "stream",
          "name": "stdout",
          "text": [
            "[polyglot_data] Downloading package ner2.sk to /root/polyglot_data...\n",
            "[polyglot_data]   Package ner2.sk is already up-to-date!\n"
          ]
        }
      ]
    },
    {
      "cell_type": "code",
      "source": [
        "from polyglot.text import Text"
      ],
      "metadata": {
        "id": "mV4X16gMN9Gy"
      },
      "execution_count": null,
      "outputs": []
    },
    {
      "cell_type": "code",
      "source": [
        "blob = \"\"\"Spoločnosť SpaceX  uskutočnila vo štvrtok kľúčový test doteraz najvýkonnejšej vesmírnej rakety Starship. Informuje BBC. V rámci tzv. statického zápalu sa súčasne spustilo 31 z 33 motorov Raptor raketového stupňa super heavy. Test trval len niekoľko sekúnd, pričom upevnenie rakety bránilo akémukoľvek pohybu. Statický zápal uskutočnili inžinieri vo výskumnom a vývojovom zariadení SpaceX v Boca Chica na hraniciach Texasu a Mexika. Majiteľ SpaceXu Elon Musk na Twitteri uviedol, že tím pred testom vypol jeden motor a že ďalší motor prestal pracovať počas testu. Podľa Muska to bolo stále dosť motorov na dosiahnutie obežnej dráhy. Pôvodom Newyorčan Walter Mirisch pôsobil v americkom filmovom priemysle približne šesť desaťročí a získal množstvo prestížnych ocenení. Zomrel v piatok v Los Angeles prirodzenou smrťou, uvádza sa v nedeľňajšom vyhlásení akadémie. Belgický cyklista Tiesj Benoot vyhral nedeľňajšiu domácu klasiku Kuurne-Brusel-Kuurne. V úplnom závere sa odpútal od päťčlenného úniku a na 193 km dlhej trase so štartom aj cieľom v meste Kuurne potvrdil výbornú formu tímu Jumbo-Visma. V sobotňajšom Omloop Het Nieuwsblad triumfoval v službách tejto stajne Holanďan Dylan van Baarle. Slovák Peter Sagan obsadil v nedeľu 33. miesto s mankom 50 sekúnd na víťaza. So sekundovou stratou na Benoota prišiel do cieľa jeho krajan a tímový kolega Nathan Van Hooydonck. Spolu s ním boli v špurte aj Slovinec Matej Mohorič (Bahrajn-Victorious), Holanďan Taco van der Hoorn z tímu Intermarche-Circus-Wanty a ďalší domáci pretekár Tim Wellens (SAE Team Emirates). Sagan sa do špurtu v závere nezapojil a posledné stovky metrov vypustil. Pretekári Jumba sa vydali stíhať únik veľmi skoro. Uspeli už v polovici etapy a tempo s nimi dokázal v tom čase držať aj Sagan. Nakoniec zostali piati najlepší, ktorých pelotón nedostihol až do cieľa. Biely dom nariadil v pondelok z bezpečnostných dôvodov všetkým americkým federálnym úradom, aby do 30 dní odstránili aplikáciu čínskej sociálnej siete TikTok zo všetkých vládnych zariadení. Americký Úrad pre manažment a rozpočet označil pondelkové usmernenie ako \"kritický krok vpred pri riešení rizík, ktoré aplikácia predstavuje pre citlivé vládne dáta\". Takéto obmedzenie už v súčasnosti platí na americkom ministerstve obrany, rezorte vnútornej bezpečnosti i na ministerstve zahraničných vecí. Toto usmernenie je súčasťou trvalého záväzku administratívy amerického prezidenta Joea Bidena \"zabezpečiť našu digitálnu infraštruktúru a chrániť bezpečnosť a súkromie Američanov,\" uviedol Chris DeRusha, federálny riaditeľ pre informačnú bezpečnosť. O usmernení ako prvá informovala agentúra Reuters. Unikátne farebné zábery zo Slovenska, ktoré majú 85 rokov. Sú dielom vtedajšieho amerického veľvyslanca Wilbura J. Carra v Československu a zachytávajú Vysoké Tatry, vidiek a menšie slovenské mestá. Vytvoril desiatky ikonických filmov, ktoré sa stali doslova pokladom slovenskej kinematografie. Diváci, ale aj kritici, vždy, hneď v prvých záberoch spoznali, že ich točil slávny Juraj Jakubisko. Boss talianskej mafie Marco Raduano (40) je na úteku. Z väzenia s maximálnym stupňom stráženia na Sardínii sa mu podarilo vytratiť vskutku primitívnym spôsobom. „Tento odvážny útek z jednej z najbezpečnejších talianskych väzníc bol spôsobený nedostatkom personálu,\" uviedol odborový predák Giovanni Villa pre portál Il Messaggero. Argentínčan Lionel Messi sa stal Hráčom roka 2022 podľa Medzinárodnej futbalovej federácie (FIFA). Útočník Paríža St. Germain zdolal v ankete ďalších finalistov, Francúzov Karima Benzemu z Realu Madrid a svojho spoluhráča Kyliana Mbappeho. Tridsaťpäťročný Messi na MS v Katare ako kapitán priviedol Argentínu k finálovému triumfu nad Francúzskom 4:2 po jedenástkovom rozstrele. Duel sa skončil v riadnom hracom čase 2:2 a 3:3 po predĺžení. Messi strelil v zápase dva góly a premenil aj svoj pokus v rozstrele. Získal tak poslednú veľkú trofej, ktorá mu chýbala v zbierke a dostal Zlatú loptu pre najlepšieho hráča MS 2022. Stal sa prvým hráčom v histórii, ktorý toto individuálne ocenenie získal druhýkrát v kariére. Parížanom pomohol k zisku ligového titulu a k triumfu vo francúzskom Superpohári. Extravagantní tanečníci, rytmus samby a noc plná tanca a zábavy. Do brazílskeho Ria de Janeiro sa po dvoch rokoch vrátil v plnej sile karneval, ktorého tradícia siaha až do roku 1723. Časť Brazílčanov navyše využilo slávnosti na oslavu zmeny vo vedení štátu a porážky krajne pravicového prezidenta Jaira Bolsonara\"\"\"\n",
        "text = Text(blob)"
      ],
      "metadata": {
        "id": "gWYqq85jNy2e"
      },
      "execution_count": null,
      "outputs": []
    },
    {
      "cell_type": "code",
      "source": [
        "text.entities"
      ],
      "metadata": {
        "colab": {
          "base_uri": "https://localhost:8080/"
        },
        "id": "wMmz06NnN52J",
        "outputId": "58631a2f-98e2-4f6e-c37f-dcb871bf35a5"
      },
      "execution_count": null,
      "outputs": [
        {
          "output_type": "execute_result",
          "data": {
            "text/plain": [
              "[I-ORG(['SpaceX']),\n",
              " I-PER(['Starship']),\n",
              " I-ORG(['BBC']),\n",
              " I-PER(['Test']),\n",
              " I-ORG(['SpaceX']),\n",
              " I-LOC(['Boca']),\n",
              " I-LOC(['Texasu']),\n",
              " I-LOC(['Mexika']),\n",
              " I-PER(['Elon']),\n",
              " I-LOC(['Twitteri']),\n",
              " I-PER(['Muska']),\n",
              " I-PER(['Walter', 'Mirisch']),\n",
              " I-LOC(['Los']),\n",
              " I-ORG(['Los', 'Angeles']),\n",
              " I-PER(['Tiesj', 'Benoot']),\n",
              " I-LOC(['Brusel', '-', 'Kuurne']),\n",
              " I-LOC(['Kuurne']),\n",
              " I-PER(['Het', 'Nieuwsblad']),\n",
              " I-PER(['Holanďan', 'Dylan', 'van', 'Baarle']),\n",
              " I-PER(['Slovák', 'Peter', 'Sagan']),\n",
              " I-LOC(['Benoota']),\n",
              " I-PER(['Nathan', 'Van', 'Hooydonck']),\n",
              " I-LOC(['špurte']),\n",
              " I-PER(['Matej', 'Mohorič']),\n",
              " I-LOC(['Bahrajn']),\n",
              " I-PER(['Taco', 'van', 'der', 'Hoorn']),\n",
              " I-LOC(['Circus']),\n",
              " I-PER(['Tim', 'Wellens']),\n",
              " I-LOC(['SAE']),\n",
              " I-ORG(['SAE', 'Team', 'Emirates']),\n",
              " I-PER(['.', 'Sagan']),\n",
              " I-PER(['Jumba']),\n",
              " I-PER(['Sagan']),\n",
              " I-PER(['Biely']),\n",
              " I-PER(['Joea', 'Bidena']),\n",
              " I-PER(['Chris', 'DeRusha']),\n",
              " I-ORG(['Reuters']),\n",
              " I-LOC(['Slovenska']),\n",
              " I-PER(['Wilbura', 'J', '.', 'Carra']),\n",
              " I-LOC(['Československu']),\n",
              " I-LOC(['Vysoké']),\n",
              " I-LOC(['slovenskej']),\n",
              " I-PER(['Juraj', 'Jakubisko']),\n",
              " I-PER(['Boss']),\n",
              " I-LOC(['Boss', 'talianskej']),\n",
              " I-PER(['Boss', 'talianskej', 'mafie', 'Marco', 'Raduano']),\n",
              " I-LOC(['Sardínii']),\n",
              " I-PER(['vytratiť']),\n",
              " I-PER(['Villa']),\n",
              " I-PER(['Il', 'Messaggero']),\n",
              " I-PER(['Argentínčan', 'Lionel', 'Messi']),\n",
              " I-ORG(['futbalovej', 'federácie']),\n",
              " I-ORG(['Paríža', 'St']),\n",
              " I-PER(['Germain']),\n",
              " I-PER(['Karima', 'Benzemu']),\n",
              " I-ORG(['Realu', 'Madrid']),\n",
              " I-PER(['Kyliana', 'Mbappeho']),\n",
              " I-PER(['Tridsaťpäťročný', 'Messi']),\n",
              " I-LOC(['Katare']),\n",
              " I-ORG(['rozstrele']),\n",
              " I-PER(['Messi']),\n",
              " I-ORG(['rozstrele']),\n",
              " I-PER(['Parížanom']),\n",
              " I-LOC(['Superpohári']),\n",
              " I-PER(['de']),\n",
              " I-LOC(['de', 'Janeiro']),\n",
              " I-PER(['Jaira'])]"
            ]
          },
          "metadata": {},
          "execution_count": 35
        }
      ]
    }
  ]
}