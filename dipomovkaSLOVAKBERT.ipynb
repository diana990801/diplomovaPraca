{
  "nbformat": 4,
  "nbformat_minor": 0,
  "metadata": {
    "colab": {
      "provenance": []
    },
    "kernelspec": {
      "name": "python3",
      "display_name": "Python 3"
    },
    "language_info": {
      "name": "python"
    }
  },
  "cells": [
    {
      "cell_type": "code",
      "source": [
        "pip install pytorch-pretrained-bert"
      ],
      "metadata": {
        "id": "xDsTn2QllmTk"
      },
      "execution_count": null,
      "outputs": []
    },
    {
      "cell_type": "code",
      "source": [
        "import pytorch_pretrained_bert as ppb"
      ],
      "metadata": {
        "id": "oEV2wFCJoSo6"
      },
      "execution_count": null,
      "outputs": []
    },
    {
      "cell_type": "code",
      "source": [
        "assert 'bert-large-cased' in ppb.modeling.PRETRAINED_MODEL_ARCHIVE_MAP"
      ],
      "metadata": {
        "id": "oMTi_2jKoX5b"
      },
      "execution_count": null,
      "outputs": []
    },
    {
      "cell_type": "code",
      "source": [
        "pip install transformers"
      ],
      "metadata": {
        "id": "wSuSmcaer2vF"
      },
      "execution_count": null,
      "outputs": []
    },
    {
      "cell_type": "code",
      "source": [
        "from transformers import pipeline\n",
        "\n",
        "\n",
        "ner_pipeline = pipeline(task='ner', model='crabz/slovakbert-ner')\n",
        "input_sentence = \"Spoločnosť SpaceX  uskutočnila vo štvrtok kľúčový test doteraz najvýkonnejšej vesmírnej rakety Starship. Informuje BBC. V rámci tzv. statického zápalu sa súčasne spustilo 31 z 33 motorov Raptor raketového stupňa super heavy. Test trval len niekoľko sekúnd, pričom upevnenie rakety bránilo akémukoľvek pohybu. Statický zápal uskutočnili inžinieri vo výskumnom a vývojovom zariadení SpaceX v Boca Chica na hraniciach Texasu a Mexika. Majiteľ SpaceXu Elon Musk na Twitteri uviedol, že tím pred testom vypol jeden motor a že ďalší motor prestal pracovať počas testu. Podľa Muska to bolo stále dosť motorov na dosiahnutie obežnej dráhy. Pôvodom Newyorčan Walter Mirisch pôsobil v americkom filmovom priemysle približne šesť desaťročí a získal množstvo prestížnych ocenení. Zomrel v piatok v Los Angeles prirodzenou smrťou, uvádza sa v nedeľňajšom vyhlásení akadémie. Belgický cyklista Tiesj Benoot vyhral nedeľňajšiu domácu klasiku Kuurne-Brusel-Kuurne. V úplnom závere sa odpútal od päťčlenného úniku a na 193 km dlhej trase so štartom aj cieľom v meste Kuurne potvrdil výbornú formu tímu Jumbo-Visma. V sobotňajšom Omloop Het Nieuwsblad triumfoval v službách tejto stajne Holanďan Dylan van Baarle. Slovák Peter Sagan obsadil v nedeľu 33. miesto s mankom 50 sekúnd na víťaza. So sekundovou stratou na Benoota prišiel do cieľa jeho krajan a tímový kolega Nathan Van Hooydonck. Spolu s ním boli v špurte aj Slovinec Matej Mohorič (Bahrajn-Victorious), Holanďan Taco van der Hoorn z tímu Intermarche-Circus-Wanty a ďalší domáci pretekár Tim Wellens (SAE Team Emirates). Sagan sa do špurtu v závere nezapojil a posledné stovky metrov vypustil. Pretekári Jumba sa vydali stíhať únik veľmi skoro. Uspeli už v polovici etapy a tempo s nimi dokázal v tom čase držať aj Sagan. Nakoniec zostali piati najlepší, ktorých pelotón nedostihol až do cieľa. Biely dom nariadil v pondelok z bezpečnostných dôvodov všetkým americkým federálnym úradom, aby do 30 dní odstránili aplikáciu čínskej sociálnej siete TikTok zo všetkých vládnych zariadení. Americký Úrad pre manažment a rozpočet označil pondelkové usmernenie ako kritický krok vpred pri riešení rizík, ktoré aplikácia predstavuje pre citlivé vládne dáta. Takéto obmedzenie už v súčasnosti platí na americkom ministerstve obrany, rezorte vnútornej bezpečnosti i na ministerstve zahraničných vecí. Toto usmernenie je súčasťou trvalého záväzku administratívy amerického prezidenta Joea Bidena zabezpečiť našu digitálnu infraštruktúru a chrániť bezpečnosť a súkromie Američanov, uviedol Chris DeRusha, federálny riaditeľ pre informačnú bezpečnosť. O usmernení ako prvá informovala agentúra Reuters. Unikátne farebné zábery zo Slovenska, ktoré majú 85 rokov. Sú dielom vtedajšieho amerického veľvyslanca Wilbura J. Carra v Československu a zachytávajú Vysoké Tatry, vidiek a menšie slovenské mestá. Vytvoril desiatky ikonických filmov, ktoré sa stali doslova pokladom slovenskej kinematografie. Diváci, ale aj kritici, vždy, hneď v prvých záberoch spoznali, že ich točil slávny Juraj Jakubisko. Boss talianskej mafie Marco Raduano (40) je na úteku. Z väzenia s maximálnym stupňom stráženia na Sardínii sa mu podarilo vytratiť vskutku primitívnym spôsobom. „Tento odvážny útek z jednej z najbezpečnejších talianskych väzníc bol spôsobený nedostatkom personálu, uviedol odborový predák Giovanni Villa pre portál Il Messaggero. Argentínčan Lionel Messi sa stal Hráčom roka 2022 podľa Medzinárodnej futbalovej federácie (FIFA). Útočník Paríža St. Germain zdolal v ankete ďalších finalistov, Francúzov Karima Benzemu z Realu Madrid a svojho spoluhráča Kyliana Mbappeho. Tridsaťpäťročný Messi na MS v Katare ako kapitán priviedol Argentínu k finálovému triumfu nad Francúzskom 4:2 po jedenástkovom rozstrele. Duel sa skončil v riadnom hracom čase 2:2 a 3:3 po predĺžení. Messi strelil v zápase dva góly a premenil aj svoj pokus v rozstrele. Získal tak poslednú veľkú trofej, ktorá mu chýbala v zbierke a dostal Zlatú loptu pre najlepšieho hráča MS 2022. Stal sa prvým hráčom v histórii, ktorý toto individuálne ocenenie získal druhýkrát v kariére. Parížanom pomohol k zisku ligového titulu a k triumfu vo francúzskom Superpohári. Extravagantní tanečníci, rytmus samby a noc plná tanca a zábavy. Do brazílskeho Ria de Janeiro sa po dvoch rokoch vrátil v plnej sile karneval, ktorého tradícia siaha až do roku 1723. Časť Brazílčanov navyše využilo slávnosti na oslavu zmeny vo vedení štátu a porážky krajne pravicového prezidenta Jaira Bolsonara.\"\n",
        "classifications = ner_pipeline(input_sentence)\n"
      ],
      "metadata": {
        "id": "OhDcqR2CiOMC"
      },
      "execution_count": null,
      "outputs": []
    },
    {
      "cell_type": "code",
      "source": [
        "import spacy\n",
        "from spacy import displacy\n",
        "\n",
        "\n",
        "ner_map = {0: '0', 1: 'B-OSOBA', 2: 'I-OSOBA', 3: 'B-ORGANIZÁCIA', 4: 'I-ORGANIZÁCIA', 5: 'B-LOKALITA', 6: 'I-LOKALITA'}\n",
        "\n",
        "entities = []\n",
        "for i in range(len(classifications)):\n",
        "    if classifications[i]['entity'] != 0:\n",
        "        if ner_map[classifications[i]['entity']][0] == 'B':\n",
        "            j = i + 1\n",
        "            while j < len(classifications) and ner_map[classifications[j]['entity']][0] == 'I':\n",
        "                j += 1\n",
        "            entities.append((ner_map[classifications[i]['entity']].split('-')[1], classifications[i]['start'],\n",
        "                             classifications[j - 1]['end']))\n",
        "\n",
        "print(entities)\n",
        "\n",
        "nlp = spacy.blank(\"en\")  # it should work with any language\n",
        "\n",
        "doc = nlp(input_sentence)\n",
        "\n",
        "ents = []\n",
        "for ee in entities:\n",
        "    ents.append(doc.char_span(ee[1], ee[2], ee[0]))\n",
        "\n",
        "doc.ents = ents\n",
        "\n",
        "options = {\"ents\": [\"OSOBA\", \"ORGANIZÁCIA\", \"LOKALITA\"],\n",
        "           \"colors\": {\"OSOBA\": \"lightblue\", \"ORGANIZÁCIA\": \"lightcoral\", \"LOKALITA\": \"lightgreen\"}}\n",
        "displacy_html = displacy.render(doc, style=\"ent\", options=options)\n"
      ],
      "metadata": {
        "colab": {
          "base_uri": "https://localhost:8080/"
        },
        "id": "SQGKEfK7ldb7",
        "outputId": "6019b9f4-0770-49c1-ae40-cd38ae48fb4a"
      },
      "execution_count": null,
      "outputs": [
        {
          "output_type": "stream",
          "name": "stdout",
          "text": [
            "[('ORGANIZÁCIA', 11, 17), ('ORGANIZÁCIA', 95, 103), ('ORGANIZÁCIA', 115, 118), ('ORGANIZÁCIA', 187, 223), ('ORGANIZÁCIA', 381, 387), ('LOKALITA', 390, 400), ('LOKALITA', 415, 421), ('LOKALITA', 424, 430), ('ORGANIZÁCIA', 440, 446), ('OSOBA', 448, 449), ('OSOBA', 449, 457), ('OSOBA', 569, 571), ('OSOBA', 650, 664), ('LOKALITA', 786, 797), ('OSOBA', 880, 881), ('OSOBA', 881, 884), ('OSOBA', 884, 892), ('LOKALITA', 927, 929), ('LOKALITA', 929, 931), ('LOKALITA', 941, 943), ('LOKALITA', 943, 947), ('LOKALITA', 1050, 1056), ('ORGANIZÁCIA', 1085, 1086), ('ORGANIZÁCIA', 1086, 1096), ('ORGANIZÁCIA', 1112, 1133), ('OSOBA', 1178, 1180), ('OSOBA', 1180, 1194), ('OSOBA', 1203, 1214), ('OSOBA', 1351, 1354), ('OSOBA', 1354, 1371), ('OSOBA', 1411, 1424), ('OSOBA', 1456, 1458), ('OSOBA', 1458, 1474), ('ORGANIZÁCIA', 1482, 1493), ('ORGANIZÁCIA', 1501, 1502), ('OSOBA', 1531, 1542), ('ORGANIZÁCIA', 1544, 1561), ('OSOBA', 1564, 1569), ('ORGANIZÁCIA', 1647, 1648), ('ORGANIZÁCIA', 1648, 1652), ('OSOBA', 1758, 1763), ('ORGANIZÁCIA', 1838, 1847), ('ORGANIZÁCIA', 1989, 1990), ('LOKALITA', 2028, 2066), ('LOKALITA', 2236, 2265)]\n"
          ]
        }
      ]
    }
  ]
}